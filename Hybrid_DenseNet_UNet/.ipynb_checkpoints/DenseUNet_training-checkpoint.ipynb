{
 "cells": [
  {
   "cell_type": "markdown",
   "id": "962b8858-797b-44b3-980a-39a7a0960fdf",
   "metadata": {},
   "source": [
    "# DenseNet Encoder + UNet Decoder\n",
    "- Load the encoder part of the pre-trained DenseNet\n",
    "- Freeze the encoder\n",
    "- Dense_UNet_training - Use \"DenseNetEncoder_UNetDecoder_v1\" : No bottleneck layer\n",
    "- Dense_UNet_training_2 - Use \"DenseNetEncoder_UNetDecoder_v2\" : Bottleneck layer\n",
    "- Train the decoder only (or bottleneck; Dense_UNet_training_2)"
   ]
  },
  {
   "cell_type": "code",
   "execution_count": 1,
   "id": "aa5fc8e7-c297-4590-b55d-0d8aa05658bf",
   "metadata": {},
   "outputs": [],
   "source": [
    "import os\n",
    "import torch\n",
    "import torch.nn as nn\n",
    "import json\n",
    "\n",
    "from utils_DenseUNet import ImageDataset, show_example\n",
    "from trainer_DenseUNet import load_pretrained_densenet, Dense_UNet_training, Dense_UNet_training_2\n",
    "from DenseUNet import DenseNetEncoder_UNetDecoder_v1, DenseNetEncoder_UNetDecoder_v2"
   ]
  },
  {
   "cell_type": "code",
   "execution_count": 2,
   "id": "f5860bd9-3d7c-4701-ba2c-46f1eea62b29",
   "metadata": {},
   "outputs": [
    {
     "name": "stdout",
     "output_type": "stream",
     "text": [
      "Using device: mps\n"
     ]
    }
   ],
   "source": [
    "## Ensure compatibility with MPS (Metal Performance Shaders)\n",
    "device = torch.device(\"mps\" if torch.backends.mps.is_available() else \"cuda\" if torch.cuda.is_available() else \"cpu\")\n",
    "print(f\"Using device: {device}\")\n",
    "\n",
    "## \n",
    "class Args:\n",
    "    def __init__(self):\n",
    "        self.num_classes = None\n",
    "        self.output_size = None\n",
    "        self.num_epochs = 50\n",
    "        self.batch_size = 128\n",
    "        self.learning_rate = 0.001\n",
    "        self.weight_decay = 1e-4\n",
    "        self.dropout_prob = 0.0\n",
    "        self.lr_scheduler = {'mode': 'max', 'factor': 0.5, 'patience': 5, 'verbose': True}  # Learning Rate Scheduler\n",
    "        self.patience = 5 # Early stop\n",
    "        self.device = device\n",
    "        self.num_workers = 0\n",
    "        self.pin_memory = True\n",
    "        self.pre_trained_densenet = \"/Users/jongchan/Dropbox/Research_HCAI/Neuromodulation/best_trained_DenseNet_image_1002_random.pth\"\n",
    "        self.rfimage_folder_path = \"/Users/jongchan/Dropbox/Research_HCAI/Neuromodulation/UNet_101924/RFimages_256\"\n",
    "        self.skull_image_path = \"/Users/jongchan/Dropbox/Research_HCAI/Neuromodulation/UNet_101924/Mask_256\"\n",
    "        self.model_save_path = None\n",
    "        \n",
    "config = Args()"
   ]
  },
  {
   "cell_type": "code",
   "execution_count": 3,
   "id": "3f879bab-028d-4112-9eae-6907398a4eac",
   "metadata": {},
   "outputs": [
    {
     "name": "stdout",
     "output_type": "stream",
     "text": [
      "Training skull numbers: [1, 2, 3, 4, 5, 6, 7, 8, 9, 10, 11, 12, 13, 14, 15, 16, 17, 18, 19, 20, 21, 22, 23, 24, 25, 26, 27, 28, 29, 30, 31, 32, 33, 34, 35, 36, 37, 38, 39, 40, 41, 42, 43, 44, 45, 46, 47, 48, 49, 50, 51, 52, 53, 54, 55, 56, 57, 58, 59, 60, 61, 62, 63, 64, 65, 66, 67, 68, 69, 70, 71, 72, 73, 74, 75, 76, 77, 78, 79, 80]\n",
      "Displaying 3 random examples from the dataset:\n",
      "\tExample 1 - RF Image : Syn_030_t_7000_GP_173.png & Skull Image: Pad_038_Syn_030.png\n",
      "\tExample 2 - RF Image : Syn_012_t_7000_GP_045.png & Skull Image: Pad_038_Syn_012.png\n",
      "\tExample 3 - RF Image : Syn_019_t_7000_GP_146.png & Skull Image: Pad_038_Syn_019.png\n",
      "\n",
      "\n",
      "Validation skull numbers: [81, 82, 83, 84, 85, 86, 87, 88, 89, 90, 91, 92, 93, 94, 95, 96, 97, 98, 99, 100]\n",
      "Displaying 3 random examples from the dataset:\n",
      "\tExample 1 - RF Image : Syn_090_t_7000_GP_183.png & Skull Image: Pad_038_Syn_090.png\n",
      "\tExample 2 - RF Image : Syn_081_t_7000_GP_061.png & Skull Image: Pad_038_Syn_081.png\n",
      "\tExample 3 - RF Image : Syn_095_t_7000_GP_077.png & Skull Image: Pad_038_Syn_095.png\n",
      "\n",
      "\n",
      "Total num of images : train_dataset = 4560 & val_dataset = 1140\n",
      "Output size: torch.Size([256, 256])\n",
      "RF Image Basename: ('Syn_011_t_7000_GP_045.png',), Skull Image Basename: ('Pad_038_Syn_011.png',)\n"
     ]
    }
   ],
   "source": [
    "## Create the train dataset\n",
    "train_dataset = ImageDataset(rfimage_folder_path = config.rfimage_folder_path, skull_image_path = config.skull_image_path, mode='train')\n",
    "show_example(train_dataset, num_examples=3)\n",
    "\n",
    "## Create the validation dataset\n",
    "val_dataset = ImageDataset(rfimage_folder_path = config.rfimage_folder_path, skull_image_path = config.skull_image_path, mode='val')\n",
    "show_example(val_dataset, num_examples=3)\n",
    "\n",
    "## Check the dataset length and Define the output size\n",
    "print(f\"Total num of images : train_dataset = {len(train_dataset)} & val_dataset = {len(val_dataset)}\")\n",
    "dataloader = torch.utils.data.DataLoader(train_dataset, batch_size=1, shuffle=True)\n",
    "rf_img, skull_img, skull_num, rf_basename, skull_basename = next(iter(dataloader))  # Get the first batch\n",
    "\n",
    "## Check the output size\n",
    "output_size = skull_img.shape[2:]\n",
    "print(f\"Output size: {output_size}\")\n",
    "print(f\"RF Image Basename: {rf_basename}, Skull Image Basename: {skull_basename}\")\n",
    "config.output_size = output_size\n",
    "\n",
    "## Load the pre-traind DenseNet\n",
    "config.num_classes = 17\n",
    "trained_densenet = load_pretrained_densenet(config)"
   ]
  },
  {
   "cell_type": "markdown",
   "id": "09124cba-2892-4b05-896e-1ba72dcc0831",
   "metadata": {},
   "source": [
    "## 1. \"Dense_UNet_training\" - No bottleneck"
   ]
  },
  {
   "cell_type": "code",
   "execution_count": null,
   "id": "f36a14e2-3287-4dc7-8bf1-18e513c1f630",
   "metadata": {},
   "outputs": [],
   "source": [
    "config.weight_decay = 0\n",
    "config.lr_scheduler = {'mode': 'max', 'factor': 0.5, 'patience': 5, 'verbose': True} \n",
    "config.model_save_path = \"/Users/jongchan/Dropbox/Research_HCAI/Neuromodulation/Test_101724\"\n",
    "\n",
    "if not os.path.exists(config.model_save_path):\n",
    "    os.makedirs(config.model_save_path)\n",
    "    print(f\"Folder created: {config.model_save_path}\")\n",
    "\n",
    "Dense_UNet_training(trained_densenet, config, train_dataset, val_dataset)"
   ]
  },
  {
   "cell_type": "code",
   "execution_count": null,
   "id": "fb7f2d17-2750-4f39-b5ba-da7b7abff3c4",
   "metadata": {},
   "outputs": [],
   "source": [
    "config.weight_decay = 1e-4\n",
    "config.lr_scheduler = {'mode': 'max', 'factor': 0.5, 'patience': 5, 'verbose': True} \n",
    "config.model_save_path = \"/Users/jongchan/Dropbox/Research_HCAI/Neuromodulation/Test_101724\"\n",
    "\n",
    "if not os.path.exists(config.model_save_path):\n",
    "    os.makedirs(config.model_save_path)\n",
    "    print(f\"Folder created: {config.model_save_path}\")\n",
    "\n",
    "Dense_UNet_training(trained_densenet, config, train_dataset, val_dataset)"
   ]
  },
  {
   "cell_type": "code",
   "execution_count": null,
   "id": "0998f37f-2113-47a9-b54e-8d1ea6ceab55",
   "metadata": {},
   "outputs": [],
   "source": [
    "config.weight_decay = 5e-4\n",
    "config.lr_scheduler = {'mode': 'max', 'factor': 0.5, 'patience': 5, 'verbose': True} \n",
    "config.model_save_path = \"/Users/jongchan/Dropbox/Research_HCAI/Neuromodulation/Test_101724\"\n",
    "\n",
    "if not os.path.exists(config.model_save_path):\n",
    "    os.makedirs(config.model_save_path)\n",
    "    print(f\"Folder created: {config.model_save_path}\")\n",
    "\n",
    "Dense_UNet_training(trained_densenet, config, train_dataset, val_dataset)"
   ]
  },
  {
   "cell_type": "code",
   "execution_count": null,
   "id": "00c1c62d-a2f5-44d8-b3aa-c8f928176191",
   "metadata": {},
   "outputs": [],
   "source": [
    "config.weight_decay = 1e-3\n",
    "config.lr_scheduler = {'mode': 'max', 'factor': 0.5, 'patience': 5, 'verbose': True} \n",
    "config.model_save_path = \"/Users/jongchan/Dropbox/Research_HCAI/Neuromodulation/Test_101724\"\n",
    "\n",
    "if not os.path.exists(config.model_save_path):\n",
    "    os.makedirs(config.model_save_path)\n",
    "    print(f\"Folder created: {config.model_save_path}\")\n",
    "\n",
    "Dense_UNet_training(trained_densenet, config, train_dataset, val_dataset)"
   ]
  },
  {
   "cell_type": "markdown",
   "id": "30bc03be-8580-4ae9-88bd-9eb86e6372e0",
   "metadata": {},
   "source": [
    "## 2. \"Dense_UNet_training_2\" - With bottleneck"
   ]
  },
  {
   "cell_type": "code",
   "execution_count": null,
   "id": "5e2e9323-ff07-421a-8ea1-8eb71c94687f",
   "metadata": {},
   "outputs": [],
   "source": [
    "config.weight_decay = 0\n",
    "config.lr_scheduler = {'mode': 'max', 'factor': 0.5, 'patience': 5, 'verbose': True} \n",
    "config.model_save_path = \"/Users/jongchan/Dropbox/Research_HCAI/Neuromodulation/Test_101724\"\n",
    "\n",
    "if not os.path.exists(config.model_save_path):\n",
    "    os.makedirs(config.model_save_path)\n",
    "    print(f\"Folder created: {config.model_save_path}\")\n",
    "\n",
    "Dense_UNet_training_2(trained_densenet, config, train_dataset, val_dataset)"
   ]
  },
  {
   "cell_type": "code",
   "execution_count": null,
   "id": "3652c58c-3db1-4503-af99-1b9a5817473f",
   "metadata": {},
   "outputs": [],
   "source": [
    "config.weight_decay = 1e-4\n",
    "config.lr_scheduler = {'mode': 'max', 'factor': 0.5, 'patience': 5, 'verbose': True} \n",
    "config.model_save_path = \"/Users/jongchan/Dropbox/Research_HCAI/Neuromodulation/Test_101724\"\n",
    "\n",
    "if not os.path.exists(config.model_save_path):\n",
    "    os.makedirs(config.model_save_path)\n",
    "    print(f\"Folder created: {config.model_save_path}\")\n",
    "\n",
    "Dense_UNet_training_2(trained_densenet, config, train_dataset, val_dataset)"
   ]
  },
  {
   "cell_type": "code",
   "execution_count": null,
   "id": "22f3a6a6-1073-4cb3-872f-79c908d1ad5c",
   "metadata": {},
   "outputs": [],
   "source": [
    "config.weight_decay = 5e-4\n",
    "config.lr_scheduler = {'mode': 'max', 'factor': 0.5, 'patience': 5, 'verbose': True} \n",
    "config.model_save_path = \"/Users/jongchan/Dropbox/Research_HCAI/Neuromodulation/Test_101724\"\n",
    "\n",
    "if not os.path.exists(config.model_save_path):\n",
    "    os.makedirs(config.model_save_path)\n",
    "    print(f\"Folder created: {config.model_save_path}\")\n",
    "\n",
    "Dense_UNet_training_2(trained_densenet, config, train_dataset, val_dataset)"
   ]
  },
  {
   "cell_type": "code",
   "execution_count": null,
   "id": "13421a43-37e6-41c5-8f38-b7957f4ffbad",
   "metadata": {},
   "outputs": [],
   "source": [
    "config.weight_decay = 1e-3\n",
    "config.lr_scheduler = {'mode': 'max', 'factor': 0.5, 'patience': 5, 'verbose': True} \n",
    "config.model_save_path = \"/Users/jongchan/Dropbox/Research_HCAI/Neuromodulation/Test_101724\"\n",
    "\n",
    "if not os.path.exists(config.model_save_path):\n",
    "    os.makedirs(config.model_save_path)\n",
    "    print(f\"Folder created: {config.model_save_path}\")\n",
    "\n",
    "Dense_UNet_training_2(trained_densenet, config, train_dataset, val_dataset)"
   ]
  }
 ],
 "metadata": {
  "kernelspec": {
   "display_name": "Python 3 (ipykernel)",
   "language": "python",
   "name": "python3"
  },
  "language_info": {
   "codemirror_mode": {
    "name": "ipython",
    "version": 3
   },
   "file_extension": ".py",
   "mimetype": "text/x-python",
   "name": "python",
   "nbconvert_exporter": "python",
   "pygments_lexer": "ipython3",
   "version": "3.10.13"
  }
 },
 "nbformat": 4,
 "nbformat_minor": 5
}
