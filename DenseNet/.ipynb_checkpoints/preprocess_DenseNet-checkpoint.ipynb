{
 "cells": [
  {
   "cell_type": "code",
   "execution_count": 1,
   "id": "6f32c3f2-1805-4161-9990-af7d290a39b6",
   "metadata": {},
   "outputs": [],
   "source": [
    "import os\n",
    "import numpy as np\n",
    "import pandas as pd\n",
    "import matplotlib.pyplot as plt\n",
    "from utils_DenseNet import process_and_generate_images"
   ]
  },
  {
   "cell_type": "markdown",
   "id": "ed249511-2752-4a80-b9f4-791ea6a286a8",
   "metadata": {},
   "source": [
    "# 1. Data and Configuration Setup"
   ]
  },
  {
   "cell_type": "code",
   "execution_count": null,
   "id": "e1f1b100-c9c8-4b4f-b9dd-73476f226c61",
   "metadata": {},
   "outputs": [],
   "source": [
    "## Parameters\n",
    "csv_path = \"\"  # Path to the CSV file containing predefined array geometries and their classes\n",
    "data_path = \"\"  # Path to the directory containing raw RF signal datasets\n",
    "save_path = \"\"  # Directory path for saving the processed images\n",
    "\n",
    "df = pd.read_csv(csv_path)\n",
    "print(\"Classes =\", df['cluster'].unique())\n",
    "cluster_counts_dict = df['cluster'].value_counts().to_dict()\n",
    "print(\"Cluster counts:\", cluster_counts_dict)\n",
    "\n",
    "timesteps = np.linspace(6000, 8000, 5).astype(int)\n",
    "print(\"Timesteps:\", timesteps)"
   ]
  },
  {
   "cell_type": "markdown",
   "id": "08e8a736-4a44-4450-991e-12b32ebbd7ab",
   "metadata": {},
   "source": [
    "# 2. Generate and Save Processed Images"
   ]
  },
  {
   "cell_type": "code",
   "execution_count": null,
   "id": "f5de3174-0e34-47bb-a036-8621aacfe637",
   "metadata": {},
   "outputs": [],
   "source": [
    "process_and_generate_images(df, data_path, save_path, timesteps, cluster_counts_dict)"
   ]
  }
 ],
 "metadata": {
  "kernelspec": {
   "display_name": "Python 3 (ipykernel)",
   "language": "python",
   "name": "python3"
  },
  "language_info": {
   "codemirror_mode": {
    "name": "ipython",
    "version": 3
   },
   "file_extension": ".py",
   "mimetype": "text/x-python",
   "name": "python",
   "nbconvert_exporter": "python",
   "pygments_lexer": "ipython3",
   "version": "3.10.13"
  }
 },
 "nbformat": 4,
 "nbformat_minor": 5
}
